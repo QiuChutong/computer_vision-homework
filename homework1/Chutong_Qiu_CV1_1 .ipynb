{
  "nbformat": 4,
  "nbformat_minor": 0,
  "metadata": {
    "colab": {
      "provenance": [],
      "collapsed_sections": []
    },
    "kernelspec": {
      "name": "python3",
      "display_name": "Python 3"
    }
  },
  "cells": [
    {
      "cell_type": "markdown",
      "metadata": {
        "id": "5NwLQOFMMlev"
      },
      "source": [
        "# Computer Vision Assignment 1 Part 1\n",
        "---\n",
        "\n",
        "Semester: **Fall 2022**\n",
        "\n",
        "Due date: **September 29th 2022, 11.59PM EST.**\n",
        "\n",
        "## Introduction\n",
        "---\n",
        "\n",
        "This assignment is an introduction to using PyTorch for training simple neural net models. Two different datasets will be used: \n",
        "- MNIST (handwritten digits)\n",
        "- CIFAR-10 (32x32 resolution color images of 10 object classes)\n",
        "\n",
        "## Instructions\n",
        "---\n",
        "\n",
        "You should perform this assignment using Google Colab. \n",
        "* Before starting, clone this assignment using `File > Save a copy in Drive`. \n",
        "* After you're done, go through the notebook and ensure that you have answered all questions.\n",
        "* Finally, submit the ipynb `File > Download > Download .ipynb` on brightspace\n",
        "\n",
        "\n",
        "## 1. Warmup [5%]\n",
        "---\n",
        "\n",
        "It is always good practice to visually inspect your data before trying to train a model, since it lets you check for problems and get a feel for the task at hand. MNIST is a dataset of 70,000 grayscale hand-written digits (0 through 9).\n",
        "60,000 of these are training images. 10,000 are a held out test set. On the other hand, CIFAR-10 is a dataset of 60,000 color images (32 by 32 resolution) across 10 classes (airplane, automobile, bird, cat, deer, dog, frog, horse, ship, truck). The train/test split is 50k/10k.\n",
        "\n",
        "* (a) Display 10 random images from each class of MNIST\n",
        "* (b) Do the same for each class of CIFAR-10\n",
        "\n",
        "Use `matplotlib` and ipython notebook's visualization capabilities. See [this PyTorch tutorial page](http://pytorch.org/tutorials/beginner/blitz/cifar10_tutorial.html) for hints on how to achieve this.\n",
        "\n",
        "## 2. Training a Single Layer Network on MNIST [10%]\n",
        "---\n",
        "\n",
        "* (a) Start by running the training on MNIST.\n",
        "By default if you run this notebook successfully, it will train on MNIST.\n",
        "\n",
        "This will initialize a single layer model and train it on the 60,000 MNIST training images for 1 epoch (passes through the training data). The loss function ([cross_entropy](http://pytorch.org/docs/master/nn.html?highlight=cross_entropy#torch.nn.functional.cross_entropy)) computes a Logarithm of the Softmax on the output of the neural network, and then computes the negative log-likelihood w.r.t. the given `target`. The default values for the learning rate, batch size and number of epochs are given in the `options` cell of this notebook. Unless otherwise specified, use the default values throughout this assignment. Note the decrease in training loss and corresponding decrease in validation errors.\n",
        "\n",
        "* (b): Add code to plot out the network weights as images (one for each output, of size 28 by 28) after the last epoch. (Hint threads: [#1](https://discuss.pytorch.org/t/understanding-deep-network-visualize-weights/2060/2?u=smth) [#2](https://github.com/pytorch/vision#utils) )\n",
        "\n",
        "* (c): Reduce the number of training examples to just 50. (Hint: limit the iterator in the `train` function) and train the model until the loss converges. Explain what is happening to the model.\n",
        "\n",
        "## 3. Training a Multi-Layer Network on MNIST [10%]\n",
        "---\n",
        "\n",
        "* (a) Add an extra layer with 1000 hidden units and a `tanh` nonlinearity. (Hint: modify the `Net` class). Train the model for 10 epochs.\n",
        "* (b) Now set the learning rate to 10 and observe what happens during training. Give a brief explanation of your observations\n",
        "\n",
        "## 4. Training a Convolutional Network on CIFAR [25%]\n",
        "---\n",
        "\n",
        "To change over to the CIFAR-10 dataset, change the `options` cell's `dataset` variable to `'cifar10'`.\n",
        "\n",
        "- (a) Create a convolutional network with the following architecture:\n",
        "  - Convolution with 5 by 5 filters, 16 feature maps + Tanh nonlinearity.\n",
        "  - 2 by 2 max pooling (non-overlapping).\n",
        "  - Convolution with 5 by 5 filters, 128 feature maps + Tanh nonlinearity.\n",
        "  - 2 by 2 max pooling (non-overlapping).\n",
        "  - Flatten to vector.\n",
        "  - Linear layer with 64 hidden units + Tanh nonlinearity.\n",
        "  - Linear layer to 10 output units.\n",
        "\n",
        "* (b) Train it for 20 epochs on the CIFAR-10 training set. Show an image of the first layer filters.\n",
        "\n",
        "* (c) Give a breakdown of the parameters within the above model, and the overall number.\n",
        "\n",
        "Hints: [Follow the first PyTorch tutorial](http://pytorch.org/tutorials/beginner/blitz/neural_networks_tutorial.html) or look at the [MNIST example](https://github.com/pytorch/examples/tree/master/mnist). Also, you may speed up training if you use a GPU runtime (`RunTime > Change Runtime Type > GPU`)."
      ]
    },
    {
      "cell_type": "code",
      "metadata": {
        "id": "CrnqiscEKGWv"
      },
      "source": [
        "# Imports\n",
        "import torch\n",
        "import torch.nn as nn\n",
        "import torch.nn.functional as F\n",
        "import torch.optim as optim\n",
        "from torchvision import datasets, transforms\n",
        "import matplotlib.pyplot as plt"
      ],
      "execution_count": null,
      "outputs": []
    },
    {
      "cell_type": "code",
      "metadata": {
        "id": "V0NBWksLKRD7"
      },
      "source": [
        "# Options\n",
        "batch_size = 64   # input batch size for training\n",
        "epochs = 10       # number of epochs to train\n",
        "lr = 0.01        # learning rate"
      ],
      "execution_count": null,
      "outputs": []
    },
    {
      "cell_type": "code",
      "metadata": {
        "id": "ab7pqvGUKVVf"
      },
      "source": [
        "# Data Loading\n",
        "# This cell might take some time when you run it for the first time, \n",
        "# because it will download the datasets from the internet\n",
        "def get_set(dataset):\n",
        "  if dataset == 'mnist':\n",
        "    data_transform = transforms.Compose([\n",
        "        transforms.ToTensor(),\n",
        "        transforms.Normalize((0.1307,), (0.3081,))\n",
        "    ])\n",
        "    trainset = datasets.MNIST(root='.', train=True, download=True, transform=data_transform)\n",
        "    testset = datasets.MNIST(root='.', train=False, download=True, transform=data_transform)\n",
        "  elif dataset == 'cifar10':\n",
        "    data_transform = transforms.Compose([\n",
        "        transforms.ToTensor(),\n",
        "        transforms.Normalize((0.5, 0.5, 0.5), (0.5, 0.5, 0.5)),\n",
        "    ])\n",
        "    trainset = datasets.CIFAR10(root='.', train=True, download=True, transform=data_transform)\n",
        "    testset = datasets.CIFAR10(root='.', train=False, download=True, transform=data_transform)\n",
        "  \n",
        "  train_loader = torch.utils.data.DataLoader(trainset, batch_size=batch_size, shuffle=True, num_workers=0)\n",
        "  test_loader  = torch.utils.data.DataLoader(testset, batch_size=batch_size, shuffle=False, num_workers=0)\n",
        "  return trainset,testset,train_loader,test_loader\n"
      ],
      "execution_count": null,
      "outputs": []
    },
    {
      "cell_type": "markdown",
      "source": [
        "1. Warmup\n",
        "\n",
        "(a) Display 10 random images from each class of MNIST\n",
        "\n"
      ],
      "metadata": {
        "id": "c5ofsm0RIX3m"
      }
    },
    {
      "cell_type": "code",
      "source": [
        "#Display 10 random images from each class of MNIST\n",
        "import matplotlib.pyplot as plt\n",
        "import random\n",
        "import numpy as np\n",
        "\n",
        "dataset = 'mnist' # options: 'mnist' | 'cifar10'\n",
        "trainset,testset,train_loader,test_loader = get_set(dataset)\n",
        "\n",
        "#list of 10 random different images in MNIST\n",
        "random_mnist = random.sample(range(0,10000),10)\n",
        "\n",
        "plt.figure()\n",
        "for i in range(0,10):\n",
        "  plt.subplot(2,5,i+1)\n",
        "  image_location = random_mnist[i]\n",
        "  images,label = trainset[image_location]\n",
        "  images = images.reshape((28,28))\n",
        "  plt.imshow(images,cmap=\"gray\")\n",
        "plt.show()\n"
      ],
      "metadata": {
        "colab": {
          "base_uri": "https://localhost:8080/",
          "height": 227
        },
        "id": "BQVvDxBXoFfD",
        "outputId": "f4646edf-123c-4262-d950-4d94def563bc"
      },
      "execution_count": null,
      "outputs": [
        {
          "output_type": "display_data",
          "data": {
            "text/plain": [
              "<Figure size 432x288 with 10 Axes>"
            ],
            "image/png": "[encoded data removed]"
          },
          "metadata": {
            "needs_background": "light"
          }
        }
      ]
    },
    {
      "cell_type": "markdown",
      "source": [
        "(b) Do the same for each class of CIFAR-10"
      ],
      "metadata": {
        "id": "vXhCnzqPAIKU"
      }
    },
    {
      "cell_type": "code",
      "source": [
        "#Display 10 random images from each class of CIFAR-10\n",
        "import matplotlib.pyplot as plt\n",
        "import random\n",
        "import numpy as np\n",
        "\n",
        "dataset = 'cifar10' # options: 'mnist' | 'cifar10'\n",
        "trainset,testset,train_loader,test_loader = get_set(dataset)\n",
        "\n",
        "#list of 10 random different images in CIFAR-10\n",
        "random_cifar = random.sample(range(0,10000),10)\n",
        "\n",
        "plt.figure()\n",
        "for i in range(0,10):\n",
        "  plt.subplot(2,5,i+1)\n",
        "  image_location = random_cifar[i]\n",
        "  images,label = trainset[image_location]\n",
        "  images = images/ 2 + 0.5\n",
        "  plt.imshow(np.transpose(images,(1,2,0)))\n",
        "plt.show()"
      ],
      "metadata": {
        "colab": {
          "base_uri": "https://localhost:8080/",
          "height": 263
        },
        "id": "QZRz0P7Wsd1Y",
        "outputId": "0de26191-bd75-4036-f584-a52617c0d0ee"
      },
      "execution_count": null,
      "outputs": [
        {
          "output_type": "stream",
          "name": "stdout",
          "text": [
            "Files already downloaded and verified\n",
            "Files already downloaded and verified\n"
          ]
        },
        {
          "output_type": "display_data",
          "data": {
            "text/plain": [
              "<Figure size 432x288 with 10 Axes>"
            ],
            "image/png": "[encoded data removed]"
          },
          "metadata": {
            "needs_background": "light"
          }
        }
      ]
    },
    {
      "cell_type": "markdown",
      "source": [
        "2. Training a Single Layer Network on MNIST"
      ],
      "metadata": {
        "id": "eNYeR2js2WkV"
      }
    },
    {
      "cell_type": "code",
      "metadata": {
        "id": "mRkBGjAEKZM0"
      },
      "source": [
        "## network and optimizer\n",
        "\n",
        "def which_dataset(dataset):\n",
        "  num_outputs = 10\n",
        "  if dataset == 'mnist':\n",
        "    num_inputs = 784\n",
        "  elif dataset == 'cifar10':\n",
        "    num_inputs = 3072\n",
        "  return num_outputs,num_inputs\n",
        "\n",
        "class Net(nn.Module):\n",
        "    def __init__(self, num_inputs, num_outputs):\n",
        "        super(Net, self).__init__()\n",
        "        self.linear = nn.Linear(num_inputs, num_outputs)\n",
        "\n",
        "    def forward(self, input):\n",
        "        input = input.view(-1, num_inputs) # reshape input to batch x num_inputs\n",
        "        output = self.linear(input)\n",
        "        return output\n"
      ],
      "execution_count": null,
      "outputs": []
    },
    {
      "cell_type": "code",
      "metadata": {
        "id": "3DfrCg4-Kfq6"
      },
      "source": [
        "def train(network,epoch,train_loader):\n",
        "    network.train()\n",
        "    for batch_idx, (data, target) in enumerate(train_loader):\n",
        "        optimizer.zero_grad()\n",
        "        output = network(data)\n",
        "        loss = F.cross_entropy(output, target)\n",
        "        loss.backward()\n",
        "        optimizer.step()\n",
        "        if batch_idx % 100 == 0:\n",
        "            print('Train Epoch: {} [{}/{} ({:.0f}%)]\\tLoss: {:.6f}'.format(\n",
        "                epoch, batch_idx * len(data), len(train_loader.dataset),\n",
        "                100. * batch_idx / len(train_loader), loss.item()))\n",
        "\n",
        "def test(network,test_loader):\n",
        "    network.eval()\n",
        "    test_loss = 0\n",
        "    correct = 0\n",
        "    for data, target in test_loader:\n",
        "        output = network(data)\n",
        "        test_loss += F.cross_entropy(output, target, reduction='sum').item() # sum up batch loss\n",
        "        pred = output.data.max(1, keepdim=True)[1] # get the index of the max log-probability\n",
        "        correct += pred.eq(target.data.view_as(pred)).cpu().sum()\n",
        "\n",
        "    test_loss /= len(test_loader.dataset)\n",
        "    print('\\nTest set: Average loss: {:.4f}, Accuracy: {}/{} ({:.0f}%)\\n'.format(\n",
        "        test_loss, correct, len(test_loader.dataset),\n",
        "        100. * correct / len(test_loader.dataset)))\n",
        "    return test_loss\n",
        "    \n"
      ],
      "execution_count": null,
      "outputs": []
    },
    {
      "cell_type": "markdown",
      "source": [
        "(a) Start by running the training on MNIST. By default if you run this notebook successfully, it will train on MNIST.\n",
        "This will initialize a single layer model and train it on the 60,000 MNIST training images for 1 epoch (passes through the training data). The loss function (cross_entropy) computes a Logarithm of the Softmax on the output of the neural network, and then computes the negative log-likelihood w.r.t. the given target. The default values for the learning rate, batch size and number of epochs are given in the options cell of this notebook. Unless otherwise specified, use the default values throughout this assignment. Note the decrease in training loss and corresponding decrease in validation errors."
      ],
      "metadata": {
        "id": "gL-nx9A3_p1G"
      }
    },
    {
      "cell_type": "code",
      "metadata": {
        "id": "c52XmoeCKja2",
        "colab": {
          "base_uri": "https://localhost:8080/"
        },
        "outputId": "9998f1d0-278f-4c3c-94d1-3649af1d18cb"
      },
      "source": [
        "dataset = 'mnist' # options: 'mnist' | 'cifar10'\n",
        "trainset,testset,train_loader,test_loader = get_set(dataset)\n",
        "num_outputs,num_inputs = which_dataset(dataset)\n",
        "network = Net(num_inputs, num_outputs)\n",
        "optimizer = optim.SGD(network.parameters(), lr=lr)\n",
        "for epoch in range(0,20):\n",
        "  train(network,epoch,train_loader)\n",
        "  test(network,test_loader)"
      ],
      "execution_count": null,
      "outputs": [
        {
          "output_type": "stream",
          "name": "stdout",
          "text": [
            "Train Epoch: 0 [0/60000 (0%)]\tLoss: 2.415843\n",
            "Train Epoch: 0 [6400/60000 (11%)]\tLoss: 0.503727\n",
            "Train Epoch: 0 [12800/60000 (21%)]\tLoss: 0.649232\n",
            "Train Epoch: 0 [19200/60000 (32%)]\tLoss: 0.586170\n",
            "Train Epoch: 0 [25600/60000 (43%)]\tLoss: 0.443432\n",
            "Train Epoch: 0 [32000/60000 (53%)]\tLoss: 0.260542\n",
            "Train Epoch: 0 [38400/60000 (64%)]\tLoss: 0.279819\n",
            "Train Epoch: 0 [44800/60000 (75%)]\tLoss: 0.417355\n",
            "Train Epoch: 0 [51200/60000 (85%)]\tLoss: 0.519077\n",
            "Train Epoch: 0 [57600/60000 (96%)]\tLoss: 0.288186\n",
            "\n",
            "Test set: Average loss: 0.3352, Accuracy: 9068/10000 (91%)\n",
            "\n",
            "Train Epoch: 1 [0/60000 (0%)]\tLoss: 0.321813\n",
            "Train Epoch: 1 [6400/60000 (11%)]\tLoss: 0.187373\n",
            "Train Epoch: 1 [12800/60000 (21%)]\tLoss: 0.232060\n",
            "Train Epoch: 1 [19200/60000 (32%)]\tLoss: 0.247957\n",
            "Train Epoch: 1 [25600/60000 (43%)]\tLoss: 0.376854\n",
            "Train Epoch: 1 [32000/60000 (53%)]\tLoss: 0.312594\n",
            "Train Epoch: 1 [38400/60000 (64%)]\tLoss: 0.408566\n",
            "Train Epoch: 1 [44800/60000 (75%)]\tLoss: 0.236933\n",
            "Train Epoch: 1 [51200/60000 (85%)]\tLoss: 0.479350\n",
            "Train Epoch: 1 [57600/60000 (96%)]\tLoss: 0.352591\n",
            "\n",
            "Test set: Average loss: 0.3070, Accuracy: 9119/10000 (91%)\n",
            "\n",
            "Train Epoch: 2 [0/60000 (0%)]\tLoss: 0.213351\n",
            "Train Epoch: 2 [6400/60000 (11%)]\tLoss: 0.372960\n",
            "Train Epoch: 2 [12800/60000 (21%)]\tLoss: 0.109172\n",
            "Train Epoch: 2 [19200/60000 (32%)]\tLoss: 0.269579\n",
            "Train Epoch: 2 [25600/60000 (43%)]\tLoss: 0.285794\n",
            "Train Epoch: 2 [32000/60000 (53%)]\tLoss: 0.217618\n",
            "Train Epoch: 2 [38400/60000 (64%)]\tLoss: 0.203719\n",
            "Train Epoch: 2 [44800/60000 (75%)]\tLoss: 0.220929\n",
            "Train Epoch: 2 [51200/60000 (85%)]\tLoss: 0.355178\n",
            "Train Epoch: 2 [57600/60000 (96%)]\tLoss: 0.314141\n",
            "\n",
            "Test set: Average loss: 0.2946, Accuracy: 9163/10000 (92%)\n",
            "\n",
            "Train Epoch: 3 [0/60000 (0%)]\tLoss: 0.249152\n",
            "Train Epoch: 3 [6400/60000 (11%)]\tLoss: 0.244014\n",
            "Train Epoch: 3 [12800/60000 (21%)]\tLoss: 0.408004\n",
            "Train Epoch: 3 [19200/60000 (32%)]\tLoss: 0.299983\n",
            "Train Epoch: 3 [25600/60000 (43%)]\tLoss: 0.214973\n",
            "Train Epoch: 3 [32000/60000 (53%)]\tLoss: 0.285801\n",
            "Train Epoch: 3 [38400/60000 (64%)]\tLoss: 0.253369\n",
            "Train Epoch: 3 [44800/60000 (75%)]\tLoss: 0.242226\n",
            "Train Epoch: 3 [51200/60000 (85%)]\tLoss: 0.573849\n",
            "Train Epoch: 3 [57600/60000 (96%)]\tLoss: 0.150224\n",
            "\n",
            "Test set: Average loss: 0.2883, Accuracy: 9186/10000 (92%)\n",
            "\n",
            "Train Epoch: 4 [0/60000 (0%)]\tLoss: 0.327373\n",
            "Train Epoch: 4 [6400/60000 (11%)]\tLoss: 0.506290\n",
            "Train Epoch: 4 [12800/60000 (21%)]\tLoss: 0.253149\n",
            "Train Epoch: 4 [19200/60000 (32%)]\tLoss: 0.206486\n",
            "Train Epoch: 4 [25600/60000 (43%)]\tLoss: 0.353025\n",
            "Train Epoch: 4 [32000/60000 (53%)]\tLoss: 0.252803\n",
            "Train Epoch: 4 [38400/60000 (64%)]\tLoss: 0.288375\n",
            "Train Epoch: 4 [44800/60000 (75%)]\tLoss: 0.160606\n",
            "Train Epoch: 4 [51200/60000 (85%)]\tLoss: 0.348139\n",
            "Train Epoch: 4 [57600/60000 (96%)]\tLoss: 0.503595\n",
            "\n",
            "Test set: Average loss: 0.2836, Accuracy: 9167/10000 (92%)\n",
            "\n",
            "Train Epoch: 5 [0/60000 (0%)]\tLoss: 0.359963\n",
            "Train Epoch: 5 [6400/60000 (11%)]\tLoss: 0.359743\n",
            "Train Epoch: 5 [12800/60000 (21%)]\tLoss: 0.271523\n",
            "Train Epoch: 5 [19200/60000 (32%)]\tLoss: 0.303484\n",
            "Train Epoch: 5 [25600/60000 (43%)]\tLoss: 0.231370\n",
            "Train Epoch: 5 [32000/60000 (53%)]\tLoss: 0.522284\n",
            "Train Epoch: 5 [38400/60000 (64%)]\tLoss: 0.280518\n",
            "Train Epoch: 5 [44800/60000 (75%)]\tLoss: 0.194996\n",
            "Train Epoch: 5 [51200/60000 (85%)]\tLoss: 0.259825\n",
            "Train Epoch: 5 [57600/60000 (96%)]\tLoss: 0.336265\n",
            "\n",
            "Test set: Average loss: 0.2812, Accuracy: 9201/10000 (92%)\n",
            "\n",
            "Train Epoch: 6 [0/60000 (0%)]\tLoss: 0.418544\n",
            "Train Epoch: 6 [6400/60000 (11%)]\tLoss: 0.313333\n",
            "Train Epoch: 6 [12800/60000 (21%)]\tLoss: 0.272275\n",
            "Train Epoch: 6 [19200/60000 (32%)]\tLoss: 0.343749\n",
            "Train Epoch: 6 [25600/60000 (43%)]\tLoss: 0.228898\n",
            "Train Epoch: 6 [32000/60000 (53%)]\tLoss: 0.252710\n",
            "Train Epoch: 6 [38400/60000 (64%)]\tLoss: 0.167240\n",
            "Train Epoch: 6 [44800/60000 (75%)]\tLoss: 0.366888\n",
            "Train Epoch: 6 [51200/60000 (85%)]\tLoss: 0.164444\n",
            "Train Epoch: 6 [57600/60000 (96%)]\tLoss: 0.138323\n",
            "\n",
            "Test set: Average loss: 0.2795, Accuracy: 9199/10000 (92%)\n",
            "\n",
            "Train Epoch: 7 [0/60000 (0%)]\tLoss: 0.215012\n",
            "Train Epoch: 7 [6400/60000 (11%)]\tLoss: 0.219374\n",
            "Train Epoch: 7 [12800/60000 (21%)]\tLoss: 0.340009\n",
            "Train Epoch: 7 [19200/60000 (32%)]\tLoss: 0.265234\n",
            "Train Epoch: 7 [25600/60000 (43%)]\tLoss: 0.268291\n",
            "Train Epoch: 7 [32000/60000 (53%)]\tLoss: 0.224975\n",
            "Train Epoch: 7 [38400/60000 (64%)]\tLoss: 0.280992\n",
            "Train Epoch: 7 [44800/60000 (75%)]\tLoss: 0.275340\n",
            "Train Epoch: 7 [51200/60000 (85%)]\tLoss: 0.402778\n",
            "Train Epoch: 7 [57600/60000 (96%)]\tLoss: 0.286108\n",
            "\n",
            "Test set: Average loss: 0.2791, Accuracy: 9209/10000 (92%)\n",
            "\n",
            "Train Epoch: 8 [0/60000 (0%)]\tLoss: 0.266386\n",
            "Train Epoch: 8 [6400/60000 (11%)]\tLoss: 0.359779\n",
            "Train Epoch: 8 [12800/60000 (21%)]\tLoss: 0.221006\n",
            "Train Epoch: 8 [19200/60000 (32%)]\tLoss: 0.080647\n",
            "Train Epoch: 8 [25600/60000 (43%)]\tLoss: 0.230849\n",
            "Train Epoch: 8 [32000/60000 (53%)]\tLoss: 0.187132\n",
            "Train Epoch: 8 [38400/60000 (64%)]\tLoss: 0.160917\n",
            "Train Epoch: 8 [44800/60000 (75%)]\tLoss: 0.220747\n",
            "Train Epoch: 8 [51200/60000 (85%)]\tLoss: 0.276762\n",
            "Train Epoch: 8 [57600/60000 (96%)]\tLoss: 0.185142\n",
            "\n",
            "Test set: Average loss: 0.2759, Accuracy: 9226/10000 (92%)\n",
            "\n",
            "Train Epoch: 9 [0/60000 (0%)]\tLoss: 0.242581\n",
            "Train Epoch: 9 [6400/60000 (11%)]\tLoss: 0.196284\n",
            "Train Epoch: 9 [12800/60000 (21%)]\tLoss: 0.213368\n",
            "Train Epoch: 9 [19200/60000 (32%)]\tLoss: 0.134088\n",
            "Train Epoch: 9 [25600/60000 (43%)]\tLoss: 0.291038\n",
            "Train Epoch: 9 [32000/60000 (53%)]\tLoss: 0.181341\n",
            "Train Epoch: 9 [38400/60000 (64%)]\tLoss: 0.147606\n",
            "Train Epoch: 9 [44800/60000 (75%)]\tLoss: 0.200585\n",
            "Train Epoch: 9 [51200/60000 (85%)]\tLoss: 0.304987\n",
            "Train Epoch: 9 [57600/60000 (96%)]\tLoss: 0.290784\n",
            "\n",
            "Test set: Average loss: 0.2759, Accuracy: 9209/10000 (92%)\n",
            "\n",
            "Train Epoch: 10 [0/60000 (0%)]\tLoss: 0.524308\n",
            "Train Epoch: 10 [6400/60000 (11%)]\tLoss: 0.177103\n",
            "Train Epoch: 10 [12800/60000 (21%)]\tLoss: 0.339509\n",
            "Train Epoch: 10 [19200/60000 (32%)]\tLoss: 0.313304\n",
            "Train Epoch: 10 [25600/60000 (43%)]\tLoss: 0.223829\n",
            "Train Epoch: 10 [32000/60000 (53%)]\tLoss: 0.318223\n",
            "Train Epoch: 10 [38400/60000 (64%)]\tLoss: 0.432471\n",
            "Train Epoch: 10 [44800/60000 (75%)]\tLoss: 0.242681\n",
            "Train Epoch: 10 [51200/60000 (85%)]\tLoss: 0.458848\n",
            "Train Epoch: 10 [57600/60000 (96%)]\tLoss: 0.243861\n",
            "\n",
            "Test set: Average loss: 0.2757, Accuracy: 9221/10000 (92%)\n",
            "\n",
            "Train Epoch: 11 [0/60000 (0%)]\tLoss: 0.205615\n",
            "Train Epoch: 11 [6400/60000 (11%)]\tLoss: 0.398534\n",
            "Train Epoch: 11 [12800/60000 (21%)]\tLoss: 0.327370\n",
            "Train Epoch: 11 [19200/60000 (32%)]\tLoss: 0.471272\n",
            "Train Epoch: 11 [25600/60000 (43%)]\tLoss: 0.181984\n",
            "Train Epoch: 11 [32000/60000 (53%)]\tLoss: 0.101631\n",
            "Train Epoch: 11 [38400/60000 (64%)]\tLoss: 0.288439\n",
            "Train Epoch: 11 [44800/60000 (75%)]\tLoss: 0.175692\n",
            "Train Epoch: 11 [51200/60000 (85%)]\tLoss: 0.256567\n",
            "Train Epoch: 11 [57600/60000 (96%)]\tLoss: 0.231602\n",
            "\n",
            "Test set: Average loss: 0.2730, Accuracy: 9227/10000 (92%)\n",
            "\n",
            "Train Epoch: 12 [0/60000 (0%)]\tLoss: 0.263253\n",
            "Train Epoch: 12 [6400/60000 (11%)]\tLoss: 0.178213\n",
            "Train Epoch: 12 [12800/60000 (21%)]\tLoss: 0.339005\n",
            "Train Epoch: 12 [19200/60000 (32%)]\tLoss: 0.441825\n",
            "Train Epoch: 12 [25600/60000 (43%)]\tLoss: 0.265865\n",
            "Train Epoch: 12 [32000/60000 (53%)]\tLoss: 0.216172\n",
            "Train Epoch: 12 [38400/60000 (64%)]\tLoss: 0.125545\n",
            "Train Epoch: 12 [44800/60000 (75%)]\tLoss: 0.515180\n",
            "Train Epoch: 12 [51200/60000 (85%)]\tLoss: 0.256723\n",
            "Train Epoch: 12 [57600/60000 (96%)]\tLoss: 0.201640\n",
            "\n",
            "Test set: Average loss: 0.2721, Accuracy: 9224/10000 (92%)\n",
            "\n",
            "Train Epoch: 13 [0/60000 (0%)]\tLoss: 0.291797\n",
            "Train Epoch: 13 [6400/60000 (11%)]\tLoss: 0.278264\n",
            "Train Epoch: 13 [12800/60000 (21%)]\tLoss: 0.219813\n",
            "Train Epoch: 13 [19200/60000 (32%)]\tLoss: 0.202484\n",
            "Train Epoch: 13 [25600/60000 (43%)]\tLoss: 0.156784\n",
            "Train Epoch: 13 [32000/60000 (53%)]\tLoss: 0.342379\n",
            "Train Epoch: 13 [38400/60000 (64%)]\tLoss: 0.413197\n",
            "Train Epoch: 13 [44800/60000 (75%)]\tLoss: 0.276710\n",
            "Train Epoch: 13 [51200/60000 (85%)]\tLoss: 0.330427\n",
            "Train Epoch: 13 [57600/60000 (96%)]\tLoss: 0.224407\n",
            "\n",
            "Test set: Average loss: 0.2721, Accuracy: 9223/10000 (92%)\n",
            "\n",
            "Train Epoch: 14 [0/60000 (0%)]\tLoss: 0.161965\n",
            "Train Epoch: 14 [6400/60000 (11%)]\tLoss: 0.274389\n",
            "Train Epoch: 14 [12800/60000 (21%)]\tLoss: 0.330767\n",
            "Train Epoch: 14 [19200/60000 (32%)]\tLoss: 0.394526\n",
            "Train Epoch: 14 [25600/60000 (43%)]\tLoss: 0.243220\n",
            "Train Epoch: 14 [32000/60000 (53%)]\tLoss: 0.344477\n",
            "Train Epoch: 14 [38400/60000 (64%)]\tLoss: 0.443665\n",
            "Train Epoch: 14 [44800/60000 (75%)]\tLoss: 0.345708\n",
            "Train Epoch: 14 [51200/60000 (85%)]\tLoss: 0.461337\n",
            "Train Epoch: 14 [57600/60000 (96%)]\tLoss: 0.140215\n",
            "\n",
            "Test set: Average loss: 0.2718, Accuracy: 9221/10000 (92%)\n",
            "\n",
            "Train Epoch: 15 [0/60000 (0%)]\tLoss: 0.180730\n",
            "Train Epoch: 15 [6400/60000 (11%)]\tLoss: 0.407500\n",
            "Train Epoch: 15 [12800/60000 (21%)]\tLoss: 0.471389\n",
            "Train Epoch: 15 [19200/60000 (32%)]\tLoss: 0.342874\n",
            "Train Epoch: 15 [25600/60000 (43%)]\tLoss: 0.493215\n",
            "Train Epoch: 15 [32000/60000 (53%)]\tLoss: 0.102056\n",
            "Train Epoch: 15 [38400/60000 (64%)]\tLoss: 0.199588\n",
            "Train Epoch: 15 [44800/60000 (75%)]\tLoss: 0.308762\n",
            "Train Epoch: 15 [51200/60000 (85%)]\tLoss: 0.222501\n",
            "Train Epoch: 15 [57600/60000 (96%)]\tLoss: 0.156140\n",
            "\n",
            "Test set: Average loss: 0.2704, Accuracy: 9230/10000 (92%)\n",
            "\n",
            "Train Epoch: 16 [0/60000 (0%)]\tLoss: 0.328412\n",
            "Train Epoch: 16 [6400/60000 (11%)]\tLoss: 0.259631\n",
            "Train Epoch: 16 [12800/60000 (21%)]\tLoss: 0.385427\n",
            "Train Epoch: 16 [19200/60000 (32%)]\tLoss: 0.165401\n",
            "Train Epoch: 16 [25600/60000 (43%)]\tLoss: 0.246285\n",
            "Train Epoch: 16 [32000/60000 (53%)]\tLoss: 0.212764\n",
            "Train Epoch: 16 [38400/60000 (64%)]\tLoss: 0.230369\n",
            "Train Epoch: 16 [44800/60000 (75%)]\tLoss: 0.180733\n",
            "Train Epoch: 16 [51200/60000 (85%)]\tLoss: 0.378373\n",
            "Train Epoch: 16 [57600/60000 (96%)]\tLoss: 0.276347\n",
            "\n",
            "Test set: Average loss: 0.2729, Accuracy: 9207/10000 (92%)\n",
            "\n",
            "Train Epoch: 17 [0/60000 (0%)]\tLoss: 0.300536\n",
            "Train Epoch: 17 [6400/60000 (11%)]\tLoss: 0.169843\n",
            "Train Epoch: 17 [12800/60000 (21%)]\tLoss: 0.148628\n",
            "Train Epoch: 17 [19200/60000 (32%)]\tLoss: 0.150006\n",
            "Train Epoch: 17 [25600/60000 (43%)]\tLoss: 0.323306\n",
            "Train Epoch: 17 [32000/60000 (53%)]\tLoss: 0.314398\n",
            "Train Epoch: 17 [38400/60000 (64%)]\tLoss: 0.374063\n",
            "Train Epoch: 17 [44800/60000 (75%)]\tLoss: 0.506612\n",
            "Train Epoch: 17 [51200/60000 (85%)]\tLoss: 0.286557\n",
            "Train Epoch: 17 [57600/60000 (96%)]\tLoss: 0.360218\n",
            "\n",
            "Test set: Average loss: 0.2714, Accuracy: 9222/10000 (92%)\n",
            "\n",
            "Train Epoch: 18 [0/60000 (0%)]\tLoss: 0.358083\n",
            "Train Epoch: 18 [6400/60000 (11%)]\tLoss: 0.260550\n",
            "Train Epoch: 18 [12800/60000 (21%)]\tLoss: 0.204697\n",
            "Train Epoch: 18 [19200/60000 (32%)]\tLoss: 0.282365\n",
            "Train Epoch: 18 [25600/60000 (43%)]\tLoss: 0.198303\n",
            "Train Epoch: 18 [32000/60000 (53%)]\tLoss: 0.138978\n",
            "Train Epoch: 18 [38400/60000 (64%)]\tLoss: 0.386032\n",
            "Train Epoch: 18 [44800/60000 (75%)]\tLoss: 0.111627\n",
            "Train Epoch: 18 [51200/60000 (85%)]\tLoss: 0.202278\n",
            "Train Epoch: 18 [57600/60000 (96%)]\tLoss: 0.359879\n",
            "\n",
            "Test set: Average loss: 0.2701, Accuracy: 9230/10000 (92%)\n",
            "\n",
            "Train Epoch: 19 [0/60000 (0%)]\tLoss: 0.211415\n",
            "Train Epoch: 19 [6400/60000 (11%)]\tLoss: 0.150130\n",
            "Train Epoch: 19 [12800/60000 (21%)]\tLoss: 0.324966\n",
            "Train Epoch: 19 [19200/60000 (32%)]\tLoss: 0.388509\n",
            "Train Epoch: 19 [25600/60000 (43%)]\tLoss: 0.255531\n",
            "Train Epoch: 19 [32000/60000 (53%)]\tLoss: 0.275254\n",
            "Train Epoch: 19 [38400/60000 (64%)]\tLoss: 0.395970\n",
            "Train Epoch: 19 [44800/60000 (75%)]\tLoss: 0.377823\n",
            "Train Epoch: 19 [51200/60000 (85%)]\tLoss: 0.352383\n",
            "Train Epoch: 19 [57600/60000 (96%)]\tLoss: 0.187412\n",
            "\n",
            "Test set: Average loss: 0.2687, Accuracy: 9230/10000 (92%)\n",
            "\n"
          ]
        }
      ]
    },
    {
      "cell_type": "markdown",
      "metadata": {
        "id": "rk-O2_m03CIF"
      },
      "source": [
        "(b) Add code to plot out the network weights as images (one for each output, of size 28 by 28) after the last epoch. (Hint threads: #1 #2)"
      ]
    },
    {
      "cell_type": "code",
      "source": [
        "w,b = list(network.parameters())"
      ],
      "metadata": {
        "id": "lciPE7TcAME1"
      },
      "execution_count": null,
      "outputs": []
    },
    {
      "cell_type": "code",
      "source": [
        "w.shape"
      ],
      "metadata": {
        "colab": {
          "base_uri": "https://localhost:8080/"
        },
        "id": "v6aRFvg9Zrkx",
        "outputId": "17e44a76-9fa8-4cd8-addf-a8923cb4bc4b"
      },
      "execution_count": null,
      "outputs": [
        {
          "output_type": "execute_result",
          "data": {
            "text/plain": [
              "torch.Size([10, 784])"
            ]
          },
          "metadata": {},
          "execution_count": 15
        }
      ]
    },
    {
      "cell_type": "code",
      "source": [
        "weights = w.reshape([10,28,28]).detach().numpy()"
      ],
      "metadata": {
        "id": "H-fPRx3LVlo6"
      },
      "execution_count": null,
      "outputs": []
    },
    {
      "cell_type": "code",
      "source": [
        "plt.figure()\n",
        "for j in range(0,10):\n",
        "  plt.subplot(2,5,j+1)\n",
        "  plt.imshow(weights[j])\n",
        "plt.show()\n"
      ],
      "metadata": {
        "colab": {
          "base_uri": "https://localhost:8080/",
          "height": 227
        },
        "id": "sjgyV5-SZ_bf",
        "outputId": "344c0807-bd71-4861-8e2b-f45ff7658df8"
      },
      "execution_count": null,
      "outputs": [
        {
          "output_type": "display_data",
          "data": {
            "text/plain": [
              "<Figure size 432x288 with 10 Axes>"
            ],
            "image/png": "[encoded data removed]"
          },
          "metadata": {
            "needs_background": "light"
          }
        }
      ]
    },
    {
      "cell_type": "markdown",
      "source": [
        "(c) Reduce the number of training examples to just 50. (Hint: limit the iterator in the train function) and train the model until the loss converges. Explain what is happening to the model."
      ],
      "metadata": {
        "id": "jZU90DSodcSK"
      }
    },
    {
      "cell_type": "code",
      "source": [
        "def limited_set(limited_dataset):\n",
        "  if limited_dataset == 'limited_mnist':\n",
        "    data_transform = transforms.Compose([\n",
        "        transforms.ToTensor(),\n",
        "        transforms.Normalize((0.1307,), (0.3081,))\n",
        "    ])\n",
        "    fulltrain = datasets.MNIST(root='.', train=True, download=True, transform=data_transform)\n",
        "    trainset = data_utils.Subset(fulltrain,indices=torch.arange(50))\n",
        "    testset = datasets.MNIST(root='.', train=False, download=True, transform=data_transform)\n",
        "  elif dataset == 'limited_cifar10':\n",
        "    data_transform = transforms.Compose([\n",
        "        transforms.ToTensor(),\n",
        "        transforms.Normalize((0.5, 0.5, 0.5), (0.5, 0.5, 0.5)),\n",
        "    ])\n",
        "    fulltrain = datasets.CIFAR10(root='.', train=True, download=True, transform=data_transform)\n",
        "    trainset = data_utils.Subset(fulltrain,indices=torch.arange(50))\n",
        "    testset = datasets.CIFAR10(root='.', train=False, download=True, transform=data_transform)\n",
        "  \n",
        "  train_loader = torch.utils.data.DataLoader(trainset, batch_size=batch_size, shuffle=True, num_workers=0)\n",
        "  test_loader  = torch.utils.data.DataLoader(testset, batch_size=batch_size, shuffle=False, num_workers=0)\n",
        "  return trainset,testset,train_loader,test_loader"
      ],
      "metadata": {
        "id": "C8Dsz-KzcfjO"
      },
      "execution_count": 29,
      "outputs": []
    },
    {
      "cell_type": "code",
      "source": [
        "import torch.utils.data as data_utils\n",
        "trainset,testset,train_loader,test_loader = limited_set('limited_mnist')\n",
        "#check the number of training examples\n",
        "print(len(trainset))\n",
        "num_outputs,num_inputs = which_dataset(dataset)\n",
        "network = Net(num_inputs, num_outputs)"
      ],
      "metadata": {
        "colab": {
          "base_uri": "https://localhost:8080/"
        },
        "id": "xnFHZfwcfNMc",
        "outputId": "288a64d5-7429-4729-b36a-8be9bc00beae"
      },
      "execution_count": 33,
      "outputs": [
        {
          "output_type": "stream",
          "name": "stdout",
          "text": [
            "50\n"
          ]
        }
      ]
    },
    {
      "cell_type": "code",
      "source": [
        "last_loss = 100\n",
        "current_loss = 0\n",
        "epoch = 0\n",
        "patience = 0\n",
        "while epoch >=0 :\n",
        "  if patience == 3:\n",
        "    break\n",
        "  else:\n",
        "    train(network,epoch,train_loader)\n",
        "    current_loss = test(network,test_loader)\n",
        "    if abs(current_loss - last_loss) <= 0.05:\n",
        "      patience += 1\n",
        "    else:\n",
        "      patience = 0\n",
        "  last_loss = current_loss\n",
        "  epoch += 1\n",
        "  \n",
        "  \n"
      ],
      "metadata": {
        "colab": {
          "base_uri": "https://localhost:8080/"
        },
        "id": "6Ns70bSLWaWF",
        "outputId": "4ea51633-d4e3-45f1-b64c-444b4a2821b4"
      },
      "execution_count": 34,
      "outputs": [
        {
          "output_type": "stream",
          "name": "stdout",
          "text": [
            "Train Epoch: 0 [0/50 (0%)]\tLoss: 2.587033\n",
            "\n",
            "Test set: Average loss: 2.4943, Accuracy: 641/10000 (6%)\n",
            "\n",
            "Train Epoch: 1 [0/50 (0%)]\tLoss: 2.587033\n",
            "\n",
            "Test set: Average loss: 2.4943, Accuracy: 641/10000 (6%)\n",
            "\n",
            "Train Epoch: 2 [0/50 (0%)]\tLoss: 2.587033\n",
            "\n",
            "Test set: Average loss: 2.4943, Accuracy: 641/10000 (6%)\n",
            "\n",
            "Train Epoch: 3 [0/50 (0%)]\tLoss: 2.587034\n",
            "\n",
            "Test set: Average loss: 2.4943, Accuracy: 641/10000 (6%)\n",
            "\n"
          ]
        }
      ]
    },
    {
      "cell_type": "markdown",
      "source": [
        "According to the result, we can see that the loss convergence after train for very short times. And it has very low accuracy. I think the reason is that the data set is too small."
      ],
      "metadata": {
        "id": "Sh7twHoKcDpl"
      }
    },
    {
      "cell_type": "markdown",
      "source": [
        "3. Training a Multi-Layer Network on MNIST\n",
        "\n",
        "(a) Add an extra layer with 1000 hidden units and a tanh nonlinearity. (Hint: modify the Net class). Train the model for 10 epochs."
      ],
      "metadata": {
        "id": "nk7qlmDjdKKq"
      }
    },
    {
      "cell_type": "code",
      "source": [
        "class MLN(nn.Module):\n",
        "    def __init__(self, num_inputs, num_outputs):\n",
        "        super(MLN, self).__init__()\n",
        "        self.fc1 = nn.Linear(num_inputs, 1000)\n",
        "        self.fc2 = nn.Linear(1000,num_outputs)\n",
        "\n",
        "    def forward(self, input):\n",
        "        input = input.view(-1, num_inputs) # reshape input to batch x num_inputs\n",
        "        output = F.tanh(self.fc1(input))\n",
        "        output = self.fc2(output)\n",
        "        return output"
      ],
      "metadata": {
        "id": "LBZNm5EzdHqy"
      },
      "execution_count": null,
      "outputs": []
    },
    {
      "cell_type": "code",
      "source": [
        "dataset = 'mnist' # options: 'mnist' | 'cifar10'\n",
        "num_outputs,num_inputs = which_dataset(dataset)\n",
        "network = MLN(num_inputs, num_outputs)\n",
        "optimizer = optim.SGD(network.parameters(), lr=lr)\n",
        "trainset,testset,train_loader,test_loader = get_set(dataset)\n",
        "for epoch in range(0,10):\n",
        "  train(network,epoch,train_loader)\n",
        "  test(network,test_loader)"
      ],
      "metadata": {
        "colab": {
          "base_uri": "https://localhost:8080/"
        },
        "id": "4-o3mLJnilsU",
        "outputId": "4b293c47-07c6-4dca-bdd0-552fb5990861"
      },
      "execution_count": null,
      "outputs": [
        {
          "output_type": "stream",
          "name": "stdout",
          "text": [
            "Train Epoch: 0 [0/60000 (0%)]\tLoss: 2.365192\n",
            "Train Epoch: 0 [6400/60000 (11%)]\tLoss: 0.828830\n",
            "Train Epoch: 0 [12800/60000 (21%)]\tLoss: 0.487574\n",
            "Train Epoch: 0 [19200/60000 (32%)]\tLoss: 0.497191\n",
            "Train Epoch: 0 [25600/60000 (43%)]\tLoss: 0.389951\n",
            "Train Epoch: 0 [32000/60000 (53%)]\tLoss: 0.470171\n",
            "Train Epoch: 0 [38400/60000 (64%)]\tLoss: 0.205364\n",
            "Train Epoch: 0 [44800/60000 (75%)]\tLoss: 0.234460\n",
            "Train Epoch: 0 [51200/60000 (85%)]\tLoss: 0.391886\n",
            "Train Epoch: 0 [57600/60000 (96%)]\tLoss: 0.437927\n",
            "\n",
            "Test set: Average loss: 0.3235, Accuracy: 9072/10000 (91%)\n",
            "\n",
            "Train Epoch: 1 [0/60000 (0%)]\tLoss: 0.276076\n",
            "Train Epoch: 1 [6400/60000 (11%)]\tLoss: 0.433726\n",
            "Train Epoch: 1 [12800/60000 (21%)]\tLoss: 0.240677\n",
            "Train Epoch: 1 [19200/60000 (32%)]\tLoss: 0.407704\n",
            "Train Epoch: 1 [25600/60000 (43%)]\tLoss: 0.328454\n",
            "Train Epoch: 1 [32000/60000 (53%)]\tLoss: 0.464904\n",
            "Train Epoch: 1 [38400/60000 (64%)]\tLoss: 0.395417\n",
            "Train Epoch: 1 [44800/60000 (75%)]\tLoss: 0.489488\n",
            "Train Epoch: 1 [51200/60000 (85%)]\tLoss: 0.275561\n",
            "Train Epoch: 1 [57600/60000 (96%)]\tLoss: 0.341446\n",
            "\n",
            "Test set: Average loss: 0.2810, Accuracy: 9195/10000 (92%)\n",
            "\n",
            "Train Epoch: 2 [0/60000 (0%)]\tLoss: 0.293238\n",
            "Train Epoch: 2 [6400/60000 (11%)]\tLoss: 0.184144\n",
            "Train Epoch: 2 [12800/60000 (21%)]\tLoss: 0.160044\n",
            "Train Epoch: 2 [19200/60000 (32%)]\tLoss: 0.356193\n",
            "Train Epoch: 2 [25600/60000 (43%)]\tLoss: 0.485276\n",
            "Train Epoch: 2 [32000/60000 (53%)]\tLoss: 0.184662\n",
            "Train Epoch: 2 [38400/60000 (64%)]\tLoss: 0.215812\n",
            "Train Epoch: 2 [44800/60000 (75%)]\tLoss: 0.338121\n",
            "Train Epoch: 2 [51200/60000 (85%)]\tLoss: 0.326442\n",
            "Train Epoch: 2 [57600/60000 (96%)]\tLoss: 0.284303\n",
            "\n",
            "Test set: Average loss: 0.2607, Accuracy: 9250/10000 (92%)\n",
            "\n",
            "Train Epoch: 3 [0/60000 (0%)]\tLoss: 0.265721\n",
            "Train Epoch: 3 [6400/60000 (11%)]\tLoss: 0.214906\n",
            "Train Epoch: 3 [12800/60000 (21%)]\tLoss: 0.361372\n",
            "Train Epoch: 3 [19200/60000 (32%)]\tLoss: 0.202621\n",
            "Train Epoch: 3 [25600/60000 (43%)]\tLoss: 0.294721\n",
            "Train Epoch: 3 [32000/60000 (53%)]\tLoss: 0.260587\n",
            "Train Epoch: 3 [38400/60000 (64%)]\tLoss: 0.189692\n",
            "Train Epoch: 3 [44800/60000 (75%)]\tLoss: 0.287737\n",
            "Train Epoch: 3 [51200/60000 (85%)]\tLoss: 0.205833\n",
            "Train Epoch: 3 [57600/60000 (96%)]\tLoss: 0.215181\n",
            "\n",
            "Test set: Average loss: 0.2428, Accuracy: 9313/10000 (93%)\n",
            "\n",
            "Train Epoch: 4 [0/60000 (0%)]\tLoss: 0.284377\n",
            "Train Epoch: 4 [6400/60000 (11%)]\tLoss: 0.145834\n",
            "Train Epoch: 4 [12800/60000 (21%)]\tLoss: 0.132500\n",
            "Train Epoch: 4 [19200/60000 (32%)]\tLoss: 0.280645\n",
            "Train Epoch: 4 [25600/60000 (43%)]\tLoss: 0.206349\n",
            "Train Epoch: 4 [32000/60000 (53%)]\tLoss: 0.220535\n",
            "Train Epoch: 4 [38400/60000 (64%)]\tLoss: 0.334963\n",
            "Train Epoch: 4 [44800/60000 (75%)]\tLoss: 0.321780\n",
            "Train Epoch: 4 [51200/60000 (85%)]\tLoss: 0.123750\n",
            "Train Epoch: 4 [57600/60000 (96%)]\tLoss: 0.273947\n",
            "\n",
            "Test set: Average loss: 0.2266, Accuracy: 9364/10000 (94%)\n",
            "\n",
            "Train Epoch: 5 [0/60000 (0%)]\tLoss: 0.184767\n",
            "Train Epoch: 5 [6400/60000 (11%)]\tLoss: 0.186315\n",
            "Train Epoch: 5 [12800/60000 (21%)]\tLoss: 0.151124\n",
            "Train Epoch: 5 [19200/60000 (32%)]\tLoss: 0.286003\n",
            "Train Epoch: 5 [25600/60000 (43%)]\tLoss: 0.243335\n",
            "Train Epoch: 5 [32000/60000 (53%)]\tLoss: 0.124855\n",
            "Train Epoch: 5 [38400/60000 (64%)]\tLoss: 0.269062\n",
            "Train Epoch: 5 [44800/60000 (75%)]\tLoss: 0.102891\n",
            "Train Epoch: 5 [51200/60000 (85%)]\tLoss: 0.223468\n",
            "Train Epoch: 5 [57600/60000 (96%)]\tLoss: 0.238859\n",
            "\n",
            "Test set: Average loss: 0.2121, Accuracy: 9400/10000 (94%)\n",
            "\n",
            "Train Epoch: 6 [0/60000 (0%)]\tLoss: 0.413547\n",
            "Train Epoch: 6 [6400/60000 (11%)]\tLoss: 0.217515\n",
            "Train Epoch: 6 [12800/60000 (21%)]\tLoss: 0.079116\n",
            "Train Epoch: 6 [19200/60000 (32%)]\tLoss: 0.287568\n",
            "Train Epoch: 6 [25600/60000 (43%)]\tLoss: 0.266552\n",
            "Train Epoch: 6 [32000/60000 (53%)]\tLoss: 0.231756\n",
            "Train Epoch: 6 [38400/60000 (64%)]\tLoss: 0.183430\n",
            "Train Epoch: 6 [44800/60000 (75%)]\tLoss: 0.120805\n",
            "Train Epoch: 6 [51200/60000 (85%)]\tLoss: 0.289598\n",
            "Train Epoch: 6 [57600/60000 (96%)]\tLoss: 0.199767\n",
            "\n",
            "Test set: Average loss: 0.1987, Accuracy: 9437/10000 (94%)\n",
            "\n",
            "Train Epoch: 7 [0/60000 (0%)]\tLoss: 0.354123\n",
            "Train Epoch: 7 [6400/60000 (11%)]\tLoss: 0.211900\n",
            "Train Epoch: 7 [12800/60000 (21%)]\tLoss: 0.222814\n",
            "Train Epoch: 7 [19200/60000 (32%)]\tLoss: 0.349632\n",
            "Train Epoch: 7 [25600/60000 (43%)]\tLoss: 0.100282\n",
            "Train Epoch: 7 [32000/60000 (53%)]\tLoss: 0.228587\n",
            "Train Epoch: 7 [38400/60000 (64%)]\tLoss: 0.217248\n",
            "Train Epoch: 7 [44800/60000 (75%)]\tLoss: 0.183541\n",
            "Train Epoch: 7 [51200/60000 (85%)]\tLoss: 0.070863\n",
            "Train Epoch: 7 [57600/60000 (96%)]\tLoss: 0.272112\n",
            "\n",
            "Test set: Average loss: 0.1856, Accuracy: 9474/10000 (95%)\n",
            "\n",
            "Train Epoch: 8 [0/60000 (0%)]\tLoss: 0.283004\n",
            "Train Epoch: 8 [6400/60000 (11%)]\tLoss: 0.105345\n",
            "Train Epoch: 8 [12800/60000 (21%)]\tLoss: 0.093404\n",
            "Train Epoch: 8 [19200/60000 (32%)]\tLoss: 0.257967\n",
            "Train Epoch: 8 [25600/60000 (43%)]\tLoss: 0.104847\n",
            "Train Epoch: 8 [32000/60000 (53%)]\tLoss: 0.163413\n",
            "Train Epoch: 8 [38400/60000 (64%)]\tLoss: 0.226770\n",
            "Train Epoch: 8 [44800/60000 (75%)]\tLoss: 0.139437\n",
            "Train Epoch: 8 [51200/60000 (85%)]\tLoss: 0.138512\n",
            "Train Epoch: 8 [57600/60000 (96%)]\tLoss: 0.123360\n",
            "\n",
            "Test set: Average loss: 0.1747, Accuracy: 9508/10000 (95%)\n",
            "\n",
            "Train Epoch: 9 [0/60000 (0%)]\tLoss: 0.176477\n",
            "Train Epoch: 9 [6400/60000 (11%)]\tLoss: 0.168209\n",
            "Train Epoch: 9 [12800/60000 (21%)]\tLoss: 0.157323\n",
            "Train Epoch: 9 [19200/60000 (32%)]\tLoss: 0.093262\n",
            "Train Epoch: 9 [25600/60000 (43%)]\tLoss: 0.241123\n",
            "Train Epoch: 9 [32000/60000 (53%)]\tLoss: 0.089387\n",
            "Train Epoch: 9 [38400/60000 (64%)]\tLoss: 0.259008\n",
            "Train Epoch: 9 [44800/60000 (75%)]\tLoss: 0.238673\n",
            "Train Epoch: 9 [51200/60000 (85%)]\tLoss: 0.195427\n",
            "Train Epoch: 9 [57600/60000 (96%)]\tLoss: 0.114325\n",
            "\n",
            "Test set: Average loss: 0.1631, Accuracy: 9540/10000 (95%)\n",
            "\n"
          ]
        }
      ]
    },
    {
      "cell_type": "markdown",
      "source": [
        "(b) Now set the learning rate to 10 and observe what happens during training. Give a brief explanation of your observations"
      ],
      "metadata": {
        "id": "0m3Wn_bTdWT7"
      }
    },
    {
      "cell_type": "code",
      "source": [
        "dataset = 'mnist' # options: 'mnist' | 'cifar10'\n",
        "num_outputs,num_inputs = which_dataset(dataset)\n",
        "network = MLN(num_inputs, num_outputs)\n",
        "optimizer = optim.SGD(network.parameters(), lr=10)\n",
        "trainset,testset,train_loader,test_loader = get_set(dataset)\n",
        "for epoch in range(0,10):\n",
        "  train(network,epoch,train_loader)\n",
        "  test(network,test_loader)"
      ],
      "metadata": {
        "colab": {
          "base_uri": "https://localhost:8080/"
        },
        "id": "P8aXztksqIQ2",
        "outputId": "dda9ea8f-c071-4fd7-c86b-577aa2421f73"
      },
      "execution_count": null,
      "outputs": [
        {
          "output_type": "stream",
          "name": "stdout",
          "text": [
            "Train Epoch: 0 [0/60000 (0%)]\tLoss: 2.367329\n",
            "Train Epoch: 0 [6400/60000 (11%)]\tLoss: 3241.341797\n",
            "Train Epoch: 0 [12800/60000 (21%)]\tLoss: 1030.205200\n",
            "Train Epoch: 0 [19200/60000 (32%)]\tLoss: 663.456055\n",
            "Train Epoch: 0 [25600/60000 (43%)]\tLoss: 533.727539\n",
            "Train Epoch: 0 [32000/60000 (53%)]\tLoss: 685.878662\n",
            "Train Epoch: 0 [38400/60000 (64%)]\tLoss: 462.033539\n",
            "Train Epoch: 0 [44800/60000 (75%)]\tLoss: 389.413300\n",
            "Train Epoch: 0 [51200/60000 (85%)]\tLoss: 629.114136\n",
            "Train Epoch: 0 [57600/60000 (96%)]\tLoss: 867.440186\n",
            "\n",
            "Test set: Average loss: 146.3613, Accuracy: 6956/10000 (70%)\n",
            "\n",
            "Train Epoch: 1 [0/60000 (0%)]\tLoss: 192.206757\n",
            "Train Epoch: 1 [6400/60000 (11%)]\tLoss: 590.136047\n",
            "Train Epoch: 1 [12800/60000 (21%)]\tLoss: 481.049744\n",
            "Train Epoch: 1 [19200/60000 (32%)]\tLoss: 211.676926\n",
            "Train Epoch: 1 [25600/60000 (43%)]\tLoss: 320.284424\n",
            "Train Epoch: 1 [32000/60000 (53%)]\tLoss: 231.070541\n",
            "Train Epoch: 1 [38400/60000 (64%)]\tLoss: 216.554306\n",
            "Train Epoch: 1 [44800/60000 (75%)]\tLoss: 703.644165\n",
            "Train Epoch: 1 [51200/60000 (85%)]\tLoss: 462.771912\n",
            "Train Epoch: 1 [57600/60000 (96%)]\tLoss: 713.878235\n",
            "\n",
            "Test set: Average loss: 481.6270, Accuracy: 4573/10000 (46%)\n",
            "\n",
            "Train Epoch: 2 [0/60000 (0%)]\tLoss: 457.775452\n",
            "Train Epoch: 2 [6400/60000 (11%)]\tLoss: 328.315887\n",
            "Train Epoch: 2 [12800/60000 (21%)]\tLoss: 396.522705\n",
            "Train Epoch: 2 [19200/60000 (32%)]\tLoss: 174.093292\n",
            "Train Epoch: 2 [25600/60000 (43%)]\tLoss: 302.967743\n",
            "Train Epoch: 2 [32000/60000 (53%)]\tLoss: 534.204163\n",
            "Train Epoch: 2 [38400/60000 (64%)]\tLoss: 509.460571\n",
            "Train Epoch: 2 [44800/60000 (75%)]\tLoss: 495.967896\n",
            "Train Epoch: 2 [51200/60000 (85%)]\tLoss: 296.444214\n",
            "Train Epoch: 2 [57600/60000 (96%)]\tLoss: 889.854858\n",
            "\n",
            "Test set: Average loss: 234.5446, Accuracy: 5783/10000 (58%)\n",
            "\n",
            "Train Epoch: 3 [0/60000 (0%)]\tLoss: 332.709839\n",
            "Train Epoch: 3 [6400/60000 (11%)]\tLoss: 325.169006\n",
            "Train Epoch: 3 [12800/60000 (21%)]\tLoss: 540.151611\n",
            "Train Epoch: 3 [19200/60000 (32%)]\tLoss: 245.980011\n",
            "Train Epoch: 3 [25600/60000 (43%)]\tLoss: 164.119415\n",
            "Train Epoch: 3 [32000/60000 (53%)]\tLoss: 306.359283\n",
            "Train Epoch: 3 [38400/60000 (64%)]\tLoss: 278.171295\n",
            "Train Epoch: 3 [44800/60000 (75%)]\tLoss: 265.133301\n",
            "Train Epoch: 3 [51200/60000 (85%)]\tLoss: 128.403000\n",
            "Train Epoch: 3 [57600/60000 (96%)]\tLoss: 294.433868\n",
            "\n",
            "Test set: Average loss: 599.6487, Accuracy: 4129/10000 (41%)\n",
            "\n",
            "Train Epoch: 4 [0/60000 (0%)]\tLoss: 425.431122\n",
            "Train Epoch: 4 [6400/60000 (11%)]\tLoss: 262.474274\n",
            "Train Epoch: 4 [12800/60000 (21%)]\tLoss: 155.659286\n",
            "Train Epoch: 4 [19200/60000 (32%)]\tLoss: 309.032471\n",
            "Train Epoch: 4 [25600/60000 (43%)]\tLoss: 286.942352\n",
            "Train Epoch: 4 [32000/60000 (53%)]\tLoss: 198.245789\n",
            "Train Epoch: 4 [38400/60000 (64%)]\tLoss: 312.893799\n",
            "Train Epoch: 4 [44800/60000 (75%)]\tLoss: 194.072525\n",
            "Train Epoch: 4 [51200/60000 (85%)]\tLoss: 486.138062\n",
            "Train Epoch: 4 [57600/60000 (96%)]\tLoss: 353.681244\n",
            "\n",
            "Test set: Average loss: 472.6449, Accuracy: 4961/10000 (50%)\n",
            "\n",
            "Train Epoch: 5 [0/60000 (0%)]\tLoss: 375.308289\n",
            "Train Epoch: 5 [6400/60000 (11%)]\tLoss: 428.218628\n",
            "Train Epoch: 5 [12800/60000 (21%)]\tLoss: 376.344574\n",
            "Train Epoch: 5 [19200/60000 (32%)]\tLoss: 295.568634\n",
            "Train Epoch: 5 [25600/60000 (43%)]\tLoss: 117.711143\n",
            "Train Epoch: 5 [32000/60000 (53%)]\tLoss: 311.507874\n",
            "Train Epoch: 5 [38400/60000 (64%)]\tLoss: 239.366928\n",
            "Train Epoch: 5 [44800/60000 (75%)]\tLoss: 145.444733\n",
            "Train Epoch: 5 [51200/60000 (85%)]\tLoss: 565.704041\n",
            "Train Epoch: 5 [57600/60000 (96%)]\tLoss: 242.382614\n",
            "\n",
            "Test set: Average loss: 409.6493, Accuracy: 5906/10000 (59%)\n",
            "\n",
            "Train Epoch: 6 [0/60000 (0%)]\tLoss: 384.529297\n",
            "Train Epoch: 6 [6400/60000 (11%)]\tLoss: 356.635498\n",
            "Train Epoch: 6 [12800/60000 (21%)]\tLoss: 259.400909\n",
            "Train Epoch: 6 [19200/60000 (32%)]\tLoss: 414.346710\n",
            "Train Epoch: 6 [25600/60000 (43%)]\tLoss: 840.990356\n",
            "Train Epoch: 6 [32000/60000 (53%)]\tLoss: 137.828766\n",
            "Train Epoch: 6 [38400/60000 (64%)]\tLoss: 178.616974\n",
            "Train Epoch: 6 [44800/60000 (75%)]\tLoss: 287.298492\n",
            "Train Epoch: 6 [51200/60000 (85%)]\tLoss: 146.378754\n",
            "Train Epoch: 6 [57600/60000 (96%)]\tLoss: 241.327576\n",
            "\n",
            "Test set: Average loss: 319.8640, Accuracy: 5908/10000 (59%)\n",
            "\n",
            "Train Epoch: 7 [0/60000 (0%)]\tLoss: 482.489075\n",
            "Train Epoch: 7 [6400/60000 (11%)]\tLoss: 129.850021\n",
            "Train Epoch: 7 [12800/60000 (21%)]\tLoss: 161.721680\n",
            "Train Epoch: 7 [19200/60000 (32%)]\tLoss: 57.834724\n",
            "Train Epoch: 7 [25600/60000 (43%)]\tLoss: 281.654297\n",
            "Train Epoch: 7 [32000/60000 (53%)]\tLoss: 68.987213\n",
            "Train Epoch: 7 [38400/60000 (64%)]\tLoss: 152.797760\n",
            "Train Epoch: 7 [44800/60000 (75%)]\tLoss: 151.667206\n",
            "Train Epoch: 7 [51200/60000 (85%)]\tLoss: 151.287582\n",
            "Train Epoch: 7 [57600/60000 (96%)]\tLoss: 121.669846\n",
            "\n",
            "Test set: Average loss: 139.9038, Accuracy: 6895/10000 (69%)\n",
            "\n",
            "Train Epoch: 8 [0/60000 (0%)]\tLoss: 262.517609\n",
            "Train Epoch: 8 [6400/60000 (11%)]\tLoss: 262.413574\n",
            "Train Epoch: 8 [12800/60000 (21%)]\tLoss: 302.805908\n",
            "Train Epoch: 8 [19200/60000 (32%)]\tLoss: 210.965408\n",
            "Train Epoch: 8 [25600/60000 (43%)]\tLoss: 170.561111\n",
            "Train Epoch: 8 [32000/60000 (53%)]\tLoss: 178.595169\n",
            "Train Epoch: 8 [38400/60000 (64%)]\tLoss: 143.966095\n",
            "Train Epoch: 8 [44800/60000 (75%)]\tLoss: 241.676910\n",
            "Train Epoch: 8 [51200/60000 (85%)]\tLoss: 292.555084\n",
            "Train Epoch: 8 [57600/60000 (96%)]\tLoss: 211.376129\n",
            "\n",
            "Test set: Average loss: 210.0246, Accuracy: 6554/10000 (66%)\n",
            "\n",
            "Train Epoch: 9 [0/60000 (0%)]\tLoss: 158.232086\n",
            "Train Epoch: 9 [6400/60000 (11%)]\tLoss: 82.263741\n",
            "Train Epoch: 9 [12800/60000 (21%)]\tLoss: 121.288094\n",
            "Train Epoch: 9 [19200/60000 (32%)]\tLoss: 191.146545\n",
            "Train Epoch: 9 [25600/60000 (43%)]\tLoss: 145.705750\n",
            "Train Epoch: 9 [32000/60000 (53%)]\tLoss: 84.348648\n",
            "Train Epoch: 9 [38400/60000 (64%)]\tLoss: 154.910583\n",
            "Train Epoch: 9 [44800/60000 (75%)]\tLoss: 127.962448\n",
            "Train Epoch: 9 [51200/60000 (85%)]\tLoss: 204.598236\n",
            "Train Epoch: 9 [57600/60000 (96%)]\tLoss: 238.961639\n",
            "\n",
            "Test set: Average loss: 161.9771, Accuracy: 6761/10000 (68%)\n",
            "\n"
          ]
        }
      ]
    },
    {
      "cell_type": "markdown",
      "source": [
        "The loss change dramatically. This is because the large learning rate will lead to the failure to converge."
      ],
      "metadata": {
        "id": "sGejqAHr1b5D"
      }
    },
    {
      "cell_type": "markdown",
      "source": [
        "4. Training a Convolutional Network on CIFAR \n",
        "\n",
        "To change over to the CIFAR-10 dataset, change the options cell's dataset variable to 'cifar10'.\n",
        "\n",
        "(a) Create a convolutional network with the following architecture:\n",
        "\n",
        "* Convolution with 5 by 5 filters, 16 feature maps + Tanh nonlinearity.\n",
        "\n",
        "* 2 by 2 max pooling (non-overlapping).\n",
        "\n",
        "* Convolution with 5 by 5 filters, 128 feature maps + Tanh nonlinearity.\n",
        "\n",
        "* 2 by 2 max pooling (non-overlapping).\n",
        "\n",
        "* Flatten to vector.\n",
        "\n",
        "* Linear layer with 64 hidden units + Tanh nonlinearity.\n",
        "\n",
        "* Linear layer to 10 output units."
      ],
      "metadata": {
        "id": "O2-jOwq-3WWt"
      }
    },
    {
      "cell_type": "code",
      "source": [
        "class CN(nn.Module):\n",
        "    def __init__(self):\n",
        "        super(CN, self).__init__()\n",
        "        self.conv1 = nn.Conv2d(3,16,(5,5))\n",
        "        self.conv2 = nn.Conv2d(16,128,(5,5))\n",
        "        self.fc1 = nn.Linear(3200,64)\n",
        "        self.fc2 = nn.Linear(64,10)\n",
        "        \n",
        "    def forward(self, x):\n",
        "        #input = input.view(-1, num_inputs) # reshape input to batch x num_inputs\n",
        "        x = F.max_pool2d(F.tanh(self.conv1(x)),(2,2))\n",
        "        x = F.max_pool2d(F.tanh(self.conv2(x)),(2,2))\n",
        "        x = torch.flatten(x, 1)\n",
        "        x = F.tanh(self.fc1(x))\n",
        "        output = self.fc2(x)\n",
        "        return output"
      ],
      "metadata": {
        "id": "1Uc1sKB2Nilx"
      },
      "execution_count": null,
      "outputs": []
    },
    {
      "cell_type": "markdown",
      "source": [
        "(b) Train it for 20 epochs on the CIFAR-10 training set. Show an image of the first layer filters."
      ],
      "metadata": {
        "id": "2QKw7gdL3WZ5"
      }
    },
    {
      "cell_type": "code",
      "source": [
        "dataset = 'cifar10' # options: 'mnist' | 'cifar10'\n",
        "num_outputs,num_inputs = which_dataset(dataset)\n",
        "network = CN()\n",
        "optimizer = optim.SGD(network.parameters(), lr=lr)\n",
        "trainset,testset,train_loader,test_loader = get_set(dataset)\n",
        "for epoch in range(0,20):\n",
        "  train(network,epoch,train_loader)\n",
        "  test(network,test_loader)"
      ],
      "metadata": {
        "colab": {
          "base_uri": "https://localhost:8080/"
        },
        "id": "kQQDo38R4dNq",
        "outputId": "761c097c-03e0-4b7a-b922-122f975dffb1"
      },
      "execution_count": null,
      "outputs": [
        {
          "output_type": "stream",
          "name": "stdout",
          "text": [
            "Files already downloaded and verified\n",
            "Files already downloaded and verified\n",
            "Train Epoch: 0 [0/50000 (0%)]\tLoss: 2.308172\n",
            "Train Epoch: 0 [6400/50000 (13%)]\tLoss: 2.070567\n",
            "Train Epoch: 0 [12800/50000 (26%)]\tLoss: 2.033651\n",
            "Train Epoch: 0 [19200/50000 (38%)]\tLoss: 2.179412\n",
            "Train Epoch: 0 [25600/50000 (51%)]\tLoss: 1.924083\n",
            "Train Epoch: 0 [32000/50000 (64%)]\tLoss: 1.758680\n",
            "Train Epoch: 0 [38400/50000 (77%)]\tLoss: 1.808446\n",
            "Train Epoch: 0 [44800/50000 (90%)]\tLoss: 1.829091\n",
            "\n",
            "Test set: Average loss: 1.7911, Accuracy: 3818/10000 (38%)\n",
            "\n",
            "Train Epoch: 1 [0/50000 (0%)]\tLoss: 1.914997\n",
            "Train Epoch: 1 [6400/50000 (13%)]\tLoss: 1.773212\n",
            "Train Epoch: 1 [12800/50000 (26%)]\tLoss: 1.739175\n",
            "Train Epoch: 1 [19200/50000 (38%)]\tLoss: 1.742048\n",
            "Train Epoch: 1 [25600/50000 (51%)]\tLoss: 1.686075\n",
            "Train Epoch: 1 [32000/50000 (64%)]\tLoss: 1.700479\n",
            "Train Epoch: 1 [38400/50000 (77%)]\tLoss: 1.557264\n",
            "Train Epoch: 1 [44800/50000 (90%)]\tLoss: 1.457295\n",
            "\n",
            "Test set: Average loss: 1.6054, Accuracy: 4301/10000 (43%)\n",
            "\n",
            "Train Epoch: 2 [0/50000 (0%)]\tLoss: 1.444056\n",
            "Train Epoch: 2 [6400/50000 (13%)]\tLoss: 1.621148\n",
            "Train Epoch: 2 [12800/50000 (26%)]\tLoss: 1.599492\n",
            "Train Epoch: 2 [19200/50000 (38%)]\tLoss: 1.528731\n",
            "Train Epoch: 2 [25600/50000 (51%)]\tLoss: 1.479645\n",
            "Train Epoch: 2 [32000/50000 (64%)]\tLoss: 1.429185\n",
            "Train Epoch: 2 [38400/50000 (77%)]\tLoss: 1.537737\n",
            "Train Epoch: 2 [44800/50000 (90%)]\tLoss: 1.567851\n",
            "\n",
            "Test set: Average loss: 1.4913, Accuracy: 4702/10000 (47%)\n",
            "\n",
            "Train Epoch: 3 [0/50000 (0%)]\tLoss: 1.448886\n",
            "Train Epoch: 3 [6400/50000 (13%)]\tLoss: 1.442366\n",
            "Train Epoch: 3 [12800/50000 (26%)]\tLoss: 1.491866\n",
            "Train Epoch: 3 [19200/50000 (38%)]\tLoss: 1.201852\n",
            "Train Epoch: 3 [25600/50000 (51%)]\tLoss: 1.348045\n",
            "Train Epoch: 3 [32000/50000 (64%)]\tLoss: 1.527681\n",
            "Train Epoch: 3 [38400/50000 (77%)]\tLoss: 1.338721\n",
            "Train Epoch: 3 [44800/50000 (90%)]\tLoss: 1.466092\n",
            "\n",
            "Test set: Average loss: 1.4033, Accuracy: 4982/10000 (50%)\n",
            "\n",
            "Train Epoch: 4 [0/50000 (0%)]\tLoss: 1.332975\n",
            "Train Epoch: 4 [6400/50000 (13%)]\tLoss: 1.329594\n",
            "Train Epoch: 4 [12800/50000 (26%)]\tLoss: 1.271718\n",
            "Train Epoch: 4 [19200/50000 (38%)]\tLoss: 1.198611\n",
            "Train Epoch: 4 [25600/50000 (51%)]\tLoss: 1.358215\n",
            "Train Epoch: 4 [32000/50000 (64%)]\tLoss: 1.449681\n",
            "Train Epoch: 4 [38400/50000 (77%)]\tLoss: 1.358632\n",
            "Train Epoch: 4 [44800/50000 (90%)]\tLoss: 1.249902\n",
            "\n",
            "Test set: Average loss: 1.3166, Accuracy: 5330/10000 (53%)\n",
            "\n",
            "Train Epoch: 5 [0/50000 (0%)]\tLoss: 1.390944\n",
            "Train Epoch: 5 [6400/50000 (13%)]\tLoss: 1.304224\n",
            "Train Epoch: 5 [12800/50000 (26%)]\tLoss: 1.067959\n",
            "Train Epoch: 5 [19200/50000 (38%)]\tLoss: 1.262004\n",
            "Train Epoch: 5 [25600/50000 (51%)]\tLoss: 1.348547\n",
            "Train Epoch: 5 [32000/50000 (64%)]\tLoss: 1.350522\n",
            "Train Epoch: 5 [38400/50000 (77%)]\tLoss: 1.116459\n",
            "Train Epoch: 5 [44800/50000 (90%)]\tLoss: 1.327013\n",
            "\n",
            "Test set: Average loss: 1.2746, Accuracy: 5472/10000 (55%)\n",
            "\n",
            "Train Epoch: 6 [0/50000 (0%)]\tLoss: 1.358536\n",
            "Train Epoch: 6 [6400/50000 (13%)]\tLoss: 1.229296\n",
            "Train Epoch: 6 [12800/50000 (26%)]\tLoss: 1.407948\n",
            "Train Epoch: 6 [19200/50000 (38%)]\tLoss: 1.252366\n",
            "Train Epoch: 6 [25600/50000 (51%)]\tLoss: 1.237361\n",
            "Train Epoch: 6 [32000/50000 (64%)]\tLoss: 1.248978\n",
            "Train Epoch: 6 [38400/50000 (77%)]\tLoss: 1.137930\n",
            "Train Epoch: 6 [44800/50000 (90%)]\tLoss: 1.199121\n",
            "\n",
            "Test set: Average loss: 1.4067, Accuracy: 5089/10000 (51%)\n",
            "\n",
            "Train Epoch: 7 [0/50000 (0%)]\tLoss: 1.346357\n",
            "Train Epoch: 7 [6400/50000 (13%)]\tLoss: 1.035828\n",
            "Train Epoch: 7 [12800/50000 (26%)]\tLoss: 1.131039\n",
            "Train Epoch: 7 [19200/50000 (38%)]\tLoss: 1.234096\n",
            "Train Epoch: 7 [25600/50000 (51%)]\tLoss: 1.455185\n",
            "Train Epoch: 7 [32000/50000 (64%)]\tLoss: 1.148758\n",
            "Train Epoch: 7 [38400/50000 (77%)]\tLoss: 1.218339\n",
            "Train Epoch: 7 [44800/50000 (90%)]\tLoss: 1.180719\n",
            "\n",
            "Test set: Average loss: 1.1578, Accuracy: 5875/10000 (59%)\n",
            "\n",
            "Train Epoch: 8 [0/50000 (0%)]\tLoss: 1.205068\n",
            "Train Epoch: 8 [6400/50000 (13%)]\tLoss: 1.210837\n",
            "Train Epoch: 8 [12800/50000 (26%)]\tLoss: 1.143900\n",
            "Train Epoch: 8 [19200/50000 (38%)]\tLoss: 1.156580\n",
            "Train Epoch: 8 [25600/50000 (51%)]\tLoss: 1.059256\n",
            "Train Epoch: 8 [32000/50000 (64%)]\tLoss: 1.100057\n",
            "Train Epoch: 8 [38400/50000 (77%)]\tLoss: 1.199363\n",
            "Train Epoch: 8 [44800/50000 (90%)]\tLoss: 1.044360\n",
            "\n",
            "Test set: Average loss: 1.1668, Accuracy: 5852/10000 (59%)\n",
            "\n",
            "Train Epoch: 9 [0/50000 (0%)]\tLoss: 1.047966\n",
            "Train Epoch: 9 [6400/50000 (13%)]\tLoss: 1.278520\n",
            "Train Epoch: 9 [12800/50000 (26%)]\tLoss: 1.112900\n",
            "Train Epoch: 9 [19200/50000 (38%)]\tLoss: 1.193063\n",
            "Train Epoch: 9 [25600/50000 (51%)]\tLoss: 1.199638\n",
            "Train Epoch: 9 [32000/50000 (64%)]\tLoss: 1.051051\n",
            "Train Epoch: 9 [38400/50000 (77%)]\tLoss: 0.875486\n",
            "Train Epoch: 9 [44800/50000 (90%)]\tLoss: 0.767069\n",
            "\n",
            "Test set: Average loss: 1.0860, Accuracy: 6155/10000 (62%)\n",
            "\n",
            "Train Epoch: 10 [0/50000 (0%)]\tLoss: 1.136524\n",
            "Train Epoch: 10 [6400/50000 (13%)]\tLoss: 1.016915\n",
            "Train Epoch: 10 [12800/50000 (26%)]\tLoss: 1.119881\n",
            "Train Epoch: 10 [19200/50000 (38%)]\tLoss: 0.983606\n",
            "Train Epoch: 10 [25600/50000 (51%)]\tLoss: 1.026269\n",
            "Train Epoch: 10 [32000/50000 (64%)]\tLoss: 0.884734\n",
            "Train Epoch: 10 [38400/50000 (77%)]\tLoss: 1.100590\n",
            "Train Epoch: 10 [44800/50000 (90%)]\tLoss: 1.054690\n",
            "\n",
            "Test set: Average loss: 1.1035, Accuracy: 6114/10000 (61%)\n",
            "\n",
            "Train Epoch: 11 [0/50000 (0%)]\tLoss: 1.054127\n",
            "Train Epoch: 11 [6400/50000 (13%)]\tLoss: 0.828816\n",
            "Train Epoch: 11 [12800/50000 (26%)]\tLoss: 0.796533\n",
            "Train Epoch: 11 [19200/50000 (38%)]\tLoss: 0.947604\n",
            "Train Epoch: 11 [25600/50000 (51%)]\tLoss: 0.832918\n",
            "Train Epoch: 11 [32000/50000 (64%)]\tLoss: 0.914480\n",
            "Train Epoch: 11 [38400/50000 (77%)]\tLoss: 1.147858\n",
            "Train Epoch: 11 [44800/50000 (90%)]\tLoss: 0.865709\n",
            "\n",
            "Test set: Average loss: 1.2893, Accuracy: 5526/10000 (55%)\n",
            "\n",
            "Train Epoch: 12 [0/50000 (0%)]\tLoss: 1.239118\n",
            "Train Epoch: 12 [6400/50000 (13%)]\tLoss: 0.820017\n",
            "Train Epoch: 12 [12800/50000 (26%)]\tLoss: 0.865572\n",
            "Train Epoch: 12 [19200/50000 (38%)]\tLoss: 0.857347\n",
            "Train Epoch: 12 [25600/50000 (51%)]\tLoss: 0.999113\n",
            "Train Epoch: 12 [32000/50000 (64%)]\tLoss: 0.856126\n",
            "Train Epoch: 12 [38400/50000 (77%)]\tLoss: 0.826694\n",
            "Train Epoch: 12 [44800/50000 (90%)]\tLoss: 0.823498\n",
            "\n",
            "Test set: Average loss: 1.1067, Accuracy: 6125/10000 (61%)\n",
            "\n",
            "Train Epoch: 13 [0/50000 (0%)]\tLoss: 1.170704\n",
            "Train Epoch: 13 [6400/50000 (13%)]\tLoss: 0.769086\n",
            "Train Epoch: 13 [12800/50000 (26%)]\tLoss: 1.002391\n",
            "Train Epoch: 13 [19200/50000 (38%)]\tLoss: 0.902775\n",
            "Train Epoch: 13 [25600/50000 (51%)]\tLoss: 0.824955\n",
            "Train Epoch: 13 [32000/50000 (64%)]\tLoss: 0.994383\n",
            "Train Epoch: 13 [38400/50000 (77%)]\tLoss: 0.825744\n",
            "Train Epoch: 13 [44800/50000 (90%)]\tLoss: 0.567803\n",
            "\n",
            "Test set: Average loss: 1.1706, Accuracy: 5853/10000 (59%)\n",
            "\n",
            "Train Epoch: 14 [0/50000 (0%)]\tLoss: 1.031349\n",
            "Train Epoch: 14 [6400/50000 (13%)]\tLoss: 0.892387\n",
            "Train Epoch: 14 [12800/50000 (26%)]\tLoss: 0.780499\n",
            "Train Epoch: 14 [19200/50000 (38%)]\tLoss: 0.732600\n",
            "Train Epoch: 14 [25600/50000 (51%)]\tLoss: 1.034678\n",
            "Train Epoch: 14 [32000/50000 (64%)]\tLoss: 0.885288\n",
            "Train Epoch: 14 [38400/50000 (77%)]\tLoss: 1.037955\n",
            "Train Epoch: 14 [44800/50000 (90%)]\tLoss: 1.064749\n",
            "\n",
            "Test set: Average loss: 1.0361, Accuracy: 6412/10000 (64%)\n",
            "\n",
            "Train Epoch: 15 [0/50000 (0%)]\tLoss: 0.858320\n",
            "Train Epoch: 15 [6400/50000 (13%)]\tLoss: 1.049985\n",
            "Train Epoch: 15 [12800/50000 (26%)]\tLoss: 0.694793\n",
            "Train Epoch: 15 [19200/50000 (38%)]\tLoss: 1.010919\n",
            "Train Epoch: 15 [25600/50000 (51%)]\tLoss: 0.850928\n",
            "Train Epoch: 15 [32000/50000 (64%)]\tLoss: 1.080727\n",
            "Train Epoch: 15 [38400/50000 (77%)]\tLoss: 0.879394\n",
            "Train Epoch: 15 [44800/50000 (90%)]\tLoss: 1.055055\n",
            "\n",
            "Test set: Average loss: 1.0123, Accuracy: 6494/10000 (65%)\n",
            "\n",
            "Train Epoch: 16 [0/50000 (0%)]\tLoss: 0.841461\n",
            "Train Epoch: 16 [6400/50000 (13%)]\tLoss: 0.875499\n",
            "Train Epoch: 16 [12800/50000 (26%)]\tLoss: 0.731671\n",
            "Train Epoch: 16 [19200/50000 (38%)]\tLoss: 0.807571\n",
            "Train Epoch: 16 [25600/50000 (51%)]\tLoss: 0.978562\n",
            "Train Epoch: 16 [32000/50000 (64%)]\tLoss: 0.699938\n",
            "Train Epoch: 16 [38400/50000 (77%)]\tLoss: 0.780798\n",
            "Train Epoch: 16 [44800/50000 (90%)]\tLoss: 0.908477\n",
            "\n",
            "Test set: Average loss: 1.0313, Accuracy: 6373/10000 (64%)\n",
            "\n",
            "Train Epoch: 17 [0/50000 (0%)]\tLoss: 0.872861\n",
            "Train Epoch: 17 [6400/50000 (13%)]\tLoss: 1.055006\n",
            "Train Epoch: 17 [12800/50000 (26%)]\tLoss: 0.837527\n",
            "Train Epoch: 17 [19200/50000 (38%)]\tLoss: 0.629303\n",
            "Train Epoch: 17 [25600/50000 (51%)]\tLoss: 0.866183\n",
            "Train Epoch: 17 [32000/50000 (64%)]\tLoss: 0.958854\n",
            "Train Epoch: 17 [38400/50000 (77%)]\tLoss: 0.810656\n",
            "Train Epoch: 17 [44800/50000 (90%)]\tLoss: 1.001072\n",
            "\n",
            "Test set: Average loss: 0.9797, Accuracy: 6592/10000 (66%)\n",
            "\n",
            "Train Epoch: 18 [0/50000 (0%)]\tLoss: 0.913769\n",
            "Train Epoch: 18 [6400/50000 (13%)]\tLoss: 0.788021\n",
            "Train Epoch: 18 [12800/50000 (26%)]\tLoss: 0.873378\n",
            "Train Epoch: 18 [19200/50000 (38%)]\tLoss: 0.715006\n",
            "Train Epoch: 18 [25600/50000 (51%)]\tLoss: 0.863161\n",
            "Train Epoch: 18 [32000/50000 (64%)]\tLoss: 0.778169\n",
            "Train Epoch: 18 [38400/50000 (77%)]\tLoss: 0.902997\n",
            "Train Epoch: 18 [44800/50000 (90%)]\tLoss: 0.749389\n",
            "\n",
            "Test set: Average loss: 1.0046, Accuracy: 6512/10000 (65%)\n",
            "\n",
            "Train Epoch: 19 [0/50000 (0%)]\tLoss: 0.826726\n",
            "Train Epoch: 19 [6400/50000 (13%)]\tLoss: 0.648085\n",
            "Train Epoch: 19 [12800/50000 (26%)]\tLoss: 0.570848\n",
            "Train Epoch: 19 [19200/50000 (38%)]\tLoss: 0.724348\n",
            "Train Epoch: 19 [25600/50000 (51%)]\tLoss: 1.079910\n",
            "Train Epoch: 19 [32000/50000 (64%)]\tLoss: 0.719017\n",
            "Train Epoch: 19 [38400/50000 (77%)]\tLoss: 0.669021\n",
            "Train Epoch: 19 [44800/50000 (90%)]\tLoss: 1.074336\n",
            "\n",
            "Test set: Average loss: 0.9693, Accuracy: 6571/10000 (66%)\n",
            "\n"
          ]
        }
      ]
    },
    {
      "cell_type": "code",
      "source": [
        "weights = network.conv1.weight"
      ],
      "metadata": {
        "id": "PJwLDE_ZPICx"
      },
      "execution_count": null,
      "outputs": []
    },
    {
      "cell_type": "code",
      "source": [
        "weights.shape"
      ],
      "metadata": {
        "colab": {
          "base_uri": "https://localhost:8080/"
        },
        "id": "nRXlTu1vRqIS",
        "outputId": "b1e08207-79bc-423d-8000-e12a48c3d818"
      },
      "execution_count": null,
      "outputs": [
        {
          "output_type": "execute_result",
          "data": {
            "text/plain": [
              "torch.Size([16, 3, 5, 5])"
            ]
          },
          "metadata": {},
          "execution_count": 101
        }
      ]
    },
    {
      "cell_type": "code",
      "source": [
        "plt.figure()\n",
        "for j in range(0,16):\n",
        "  plt.subplot(4,4,j+1)\n",
        "  img = weights[j].permute(1,2,0)\n",
        "  img = img / 2 + 0.5\n",
        "  plt.imshow(img.detach())\n",
        "plt.show()"
      ],
      "metadata": {
        "colab": {
          "base_uri": "https://localhost:8080/",
          "height": 265
        },
        "id": "lKEizf-3OqVd",
        "outputId": "3dd318da-e61c-4a6b-a9ad-458663920e1b"
      },
      "execution_count": null,
      "outputs": [
        {
          "output_type": "display_data",
          "data": {
            "text/plain": [
              "<Figure size 432x288 with 16 Axes>"
            ],
            "image/png": "[encoded data removed]"
          },
          "metadata": {
            "needs_background": "light"
          }
        }
      ]
    },
    {
      "cell_type": "markdown",
      "source": [
        "(c) Give a breakdown of the parameters within the above model, and the overall number."
      ],
      "metadata": {
        "id": "eKdmRQ0s3u9h"
      }
    },
    {
      "cell_type": "code",
      "source": [
        "from torchsummary import summary\n",
        "summary(network,(3,32,32))"
      ],
      "metadata": {
        "colab": {
          "base_uri": "https://localhost:8080/"
        },
        "id": "ooVcJEzfdD9d",
        "outputId": "25f08355-66a9-421d-c192-7f52db78827e"
      },
      "execution_count": null,
      "outputs": [
        {
          "output_type": "stream",
          "name": "stdout",
          "text": [
            "----------------------------------------------------------------\n",
            "        Layer (type)               Output Shape         Param #\n",
            "================================================================\n",
            "            Conv2d-1           [-1, 16, 28, 28]           1,216\n",
            "            Conv2d-2          [-1, 128, 10, 10]          51,328\n",
            "            Linear-3                   [-1, 64]         204,864\n",
            "            Linear-4                   [-1, 10]             650\n",
            "================================================================\n",
            "Total params: 258,058\n",
            "Trainable params: 258,058\n",
            "Non-trainable params: 0\n",
            "----------------------------------------------------------------\n",
            "Input size (MB): 0.01\n",
            "Forward/backward pass size (MB): 0.19\n",
            "Params size (MB): 0.98\n",
            "Estimated Total Size (MB): 1.19\n",
            "----------------------------------------------------------------\n"
          ]
        }
      ]
    }
  ]
}